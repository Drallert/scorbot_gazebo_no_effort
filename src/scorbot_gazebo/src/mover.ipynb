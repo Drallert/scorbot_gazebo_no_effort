{
 "metadata": {
  "language_info": {
   "codemirror_mode": {
    "name": "ipython",
    "version": 3
   },
   "file_extension": ".py",
   "mimetype": "text/x-python",
   "name": "python",
   "nbconvert_exporter": "python",
   "pygments_lexer": "ipython3",
   "version": "3.8.5"
  },
  "orig_nbformat": 2,
  "kernelspec": {
   "name": "python385jvsc74a57bd0916dbcbb3f70747c44a77c7bcd40155683ae19c65e1c03b4aa3499c5328201f1",
   "display_name": "Python 3.8.5 64-bit"
  },
  "metadata": {
   "interpreter": {
    "hash": "916dbcbb3f70747c44a77c7bcd40155683ae19c65e1c03b4aa3499c5328201f1"
   }
  }
 },
 "nbformat": 4,
 "nbformat_minor": 2,
 "cells": [
  {
   "cell_type": "code",
   "execution_count": 9,
   "metadata": {},
   "outputs": [],
   "source": [
    "import sys\n",
    "sys.path.insert(0, \"/opt/ros/noetic/lib/python3/dist-packages\")\n"
   ]
  },
  {
   "cell_type": "code",
   "execution_count": 10,
   "metadata": {},
   "outputs": [
    {
     "output_type": "error",
     "ename": "ResourceNotFound",
     "evalue": "rosgraph",
     "traceback": [
      "\u001b[0;31m---------------------------------------------------------------------------\u001b[0m",
      "\u001b[0;31mResourceNotFound\u001b[0m                          Traceback (most recent call last)",
      "\u001b[0;32m<ipython-input-10-8e3f3ae08cd8>\u001b[0m in \u001b[0;36m<module>\u001b[0;34m\u001b[0m\n\u001b[1;32m     52\u001b[0m \u001b[0;34m\u001b[0m\u001b[0m\n\u001b[1;32m     53\u001b[0m     \u001b[0;32mtry\u001b[0m\u001b[0;34m:\u001b[0m\u001b[0;34m\u001b[0m\u001b[0;34m\u001b[0m\u001b[0m\n\u001b[0;32m---> 54\u001b[0;31m         \u001b[0mmover\u001b[0m\u001b[0;34m(\u001b[0m\u001b[0;34m)\u001b[0m\u001b[0;34m\u001b[0m\u001b[0;34m\u001b[0m\u001b[0m\n\u001b[0m\u001b[1;32m     55\u001b[0m     \u001b[0;32mexcept\u001b[0m \u001b[0mrospy\u001b[0m\u001b[0;34m.\u001b[0m\u001b[0mROSInterruptException\u001b[0m\u001b[0;34m:\u001b[0m\u001b[0;34m\u001b[0m\u001b[0;34m\u001b[0m\u001b[0m\n\u001b[1;32m     56\u001b[0m         \u001b[0;32mpass\u001b[0m\u001b[0;34m\u001b[0m\u001b[0;34m\u001b[0m\u001b[0m\n",
      "\u001b[0;32m<ipython-input-10-8e3f3ae08cd8>\u001b[0m in \u001b[0;36mmover\u001b[0;34m()\u001b[0m\n\u001b[1;32m     24\u001b[0m     \u001b[0;31m# pub = rospy.Publisher('/scorbot/trajectory_controller/command', JointTrajectory, queue_size=10)\u001b[0m\u001b[0;34m\u001b[0m\u001b[0;34m\u001b[0m\u001b[0;34m\u001b[0m\u001b[0m\n\u001b[1;32m     25\u001b[0m \u001b[0;34m\u001b[0m\u001b[0m\n\u001b[0;32m---> 26\u001b[0;31m     \u001b[0mrospy\u001b[0m\u001b[0;34m.\u001b[0m\u001b[0minit_node\u001b[0m\u001b[0;34m(\u001b[0m\u001b[0;34m'simple_mover_scorbot'\u001b[0m\u001b[0;34m)\u001b[0m\u001b[0;34m\u001b[0m\u001b[0;34m\u001b[0m\u001b[0m\n\u001b[0m\u001b[1;32m     27\u001b[0m     \u001b[0mrate\u001b[0m \u001b[0;34m=\u001b[0m \u001b[0mrospy\u001b[0m\u001b[0;34m.\u001b[0m\u001b[0mRate\u001b[0m\u001b[0;34m(\u001b[0m\u001b[0;36m0.2\u001b[0m\u001b[0;34m)\u001b[0m\u001b[0;34m\u001b[0m\u001b[0;34m\u001b[0m\u001b[0m\n\u001b[1;32m     28\u001b[0m     \u001b[0mstart_time\u001b[0m \u001b[0;34m=\u001b[0m \u001b[0;36m0\u001b[0m\u001b[0;34m\u001b[0m\u001b[0;34m\u001b[0m\u001b[0m\n",
      "\u001b[0;32m/usr/lib/python3/dist-packages/rospy/client.py\u001b[0m in \u001b[0;36minit_node\u001b[0;34m(name, argv, anonymous, log_level, disable_rostime, disable_rosout, disable_signals, xmlrpc_port, tcpros_port)\u001b[0m\n\u001b[1;32m    307\u001b[0m     \u001b[0;31m# use rosgraph version of resolve_name to avoid remapping\u001b[0m\u001b[0;34m\u001b[0m\u001b[0;34m\u001b[0m\u001b[0;34m\u001b[0m\u001b[0m\n\u001b[1;32m    308\u001b[0m     \u001b[0mresolved_node_name\u001b[0m \u001b[0;34m=\u001b[0m \u001b[0mrosgraph\u001b[0m\u001b[0;34m.\u001b[0m\u001b[0mnames\u001b[0m\u001b[0;34m.\u001b[0m\u001b[0mresolve_name\u001b[0m\u001b[0;34m(\u001b[0m\u001b[0mname\u001b[0m\u001b[0;34m,\u001b[0m \u001b[0mrospy\u001b[0m\u001b[0;34m.\u001b[0m\u001b[0mcore\u001b[0m\u001b[0;34m.\u001b[0m\u001b[0mget_caller_id\u001b[0m\u001b[0;34m(\u001b[0m\u001b[0;34m)\u001b[0m\u001b[0;34m)\u001b[0m\u001b[0;34m\u001b[0m\u001b[0;34m\u001b[0m\u001b[0m\n\u001b[0;32m--> 309\u001b[0;31m     \u001b[0mrospy\u001b[0m\u001b[0;34m.\u001b[0m\u001b[0mcore\u001b[0m\u001b[0;34m.\u001b[0m\u001b[0mconfigure_logging\u001b[0m\u001b[0;34m(\u001b[0m\u001b[0mresolved_node_name\u001b[0m\u001b[0;34m)\u001b[0m\u001b[0;34m\u001b[0m\u001b[0;34m\u001b[0m\u001b[0m\n\u001b[0m\u001b[1;32m    310\u001b[0m     \u001b[0;31m# #1810\u001b[0m\u001b[0;34m\u001b[0m\u001b[0;34m\u001b[0m\u001b[0;34m\u001b[0m\u001b[0m\n\u001b[1;32m    311\u001b[0m     \u001b[0mrospy\u001b[0m\u001b[0;34m.\u001b[0m\u001b[0mnames\u001b[0m\u001b[0;34m.\u001b[0m\u001b[0minitialize_mappings\u001b[0m\u001b[0;34m(\u001b[0m\u001b[0mresolved_node_name\u001b[0m\u001b[0;34m)\u001b[0m\u001b[0;34m\u001b[0m\u001b[0;34m\u001b[0m\u001b[0m\n",
      "\u001b[0;32m/usr/lib/python3/dist-packages/rospy/core.py\u001b[0m in \u001b[0;36mconfigure_logging\u001b[0;34m(node_name, level)\u001b[0m\n\u001b[1;32m    403\u001b[0m         \u001b[0;32mif\u001b[0m \u001b[0mfilename\u001b[0m \u001b[0;34m==\u001b[0m \u001b[0msuffix\u001b[0m\u001b[0;34m:\u001b[0m\u001b[0;34m\u001b[0m\u001b[0;34m\u001b[0m\u001b[0m\n\u001b[1;32m    404\u001b[0m             \u001b[0;32mraise\u001b[0m \u001b[0mrospy\u001b[0m\u001b[0;34m.\u001b[0m\u001b[0mexceptions\u001b[0m\u001b[0;34m.\u001b[0m\u001b[0mROSException\u001b[0m\u001b[0;34m(\u001b[0m\u001b[0;34m'invalid configure_logging parameter: %s'\u001b[0m\u001b[0;34m%\u001b[0m\u001b[0mnode_name\u001b[0m\u001b[0;34m)\u001b[0m\u001b[0;34m\u001b[0m\u001b[0;34m\u001b[0m\u001b[0m\n\u001b[0;32m--> 405\u001b[0;31m     \u001b[0m_log_filename\u001b[0m \u001b[0;34m=\u001b[0m \u001b[0mrosgraph\u001b[0m\u001b[0;34m.\u001b[0m\u001b[0mroslogging\u001b[0m\u001b[0;34m.\u001b[0m\u001b[0mconfigure_logging\u001b[0m\u001b[0;34m(\u001b[0m\u001b[0;34m'rospy'\u001b[0m\u001b[0;34m,\u001b[0m \u001b[0mlevel\u001b[0m\u001b[0;34m,\u001b[0m \u001b[0mfilename\u001b[0m\u001b[0;34m=\u001b[0m\u001b[0mfilename\u001b[0m\u001b[0;34m)\u001b[0m\u001b[0;34m\u001b[0m\u001b[0;34m\u001b[0m\u001b[0m\n\u001b[0m\u001b[1;32m    406\u001b[0m \u001b[0;34m\u001b[0m\u001b[0m\n\u001b[1;32m    407\u001b[0m \u001b[0;32mclass\u001b[0m \u001b[0mNullHandler\u001b[0m\u001b[0;34m(\u001b[0m\u001b[0mlogging\u001b[0m\u001b[0;34m.\u001b[0m\u001b[0mHandler\u001b[0m\u001b[0;34m)\u001b[0m\u001b[0;34m:\u001b[0m\u001b[0;34m\u001b[0m\u001b[0;34m\u001b[0m\u001b[0m\n",
      "\u001b[0;32m/usr/lib/python3/dist-packages/rosgraph/roslogging.py\u001b[0m in \u001b[0;36mconfigure_logging\u001b[0;34m(logname, level, filename, env)\u001b[0m\n\u001b[1;32m    154\u001b[0m         \u001b[0;31m# search for logging config file in ROS_HOME, ROS_ETC_DIR or relative\u001b[0m\u001b[0;34m\u001b[0m\u001b[0;34m\u001b[0m\u001b[0;34m\u001b[0m\u001b[0m\n\u001b[1;32m    155\u001b[0m         \u001b[0;31m# to the rosgraph package directory.\u001b[0m\u001b[0;34m\u001b[0m\u001b[0;34m\u001b[0m\u001b[0;34m\u001b[0m\u001b[0m\n\u001b[0;32m--> 156\u001b[0;31m         \u001b[0mrosgraph_d\u001b[0m \u001b[0;34m=\u001b[0m \u001b[0mrospkg\u001b[0m\u001b[0;34m.\u001b[0m\u001b[0mRosPack\u001b[0m\u001b[0;34m(\u001b[0m\u001b[0;34m)\u001b[0m\u001b[0;34m.\u001b[0m\u001b[0mget_path\u001b[0m\u001b[0;34m(\u001b[0m\u001b[0;34m'rosgraph'\u001b[0m\u001b[0;34m)\u001b[0m\u001b[0;34m\u001b[0m\u001b[0;34m\u001b[0m\u001b[0m\n\u001b[0m\u001b[1;32m    157\u001b[0m         for config_dir in [os.path.join(rospkg.get_ros_home(), 'config'),\n\u001b[1;32m    158\u001b[0m                            \u001b[0mrospkg\u001b[0m\u001b[0;34m.\u001b[0m\u001b[0mget_etc_ros_dir\u001b[0m\u001b[0;34m(\u001b[0m\u001b[0;34m)\u001b[0m\u001b[0;34m,\u001b[0m\u001b[0;34m\u001b[0m\u001b[0;34m\u001b[0m\u001b[0m\n",
      "\u001b[0;32m/usr/lib/python3/dist-packages/rospkg/rospack.py\u001b[0m in \u001b[0;36mget_path\u001b[0;34m(self, name)\u001b[0m\n\u001b[1;32m    205\u001b[0m         \u001b[0mself\u001b[0m\u001b[0;34m.\u001b[0m\u001b[0m_update_location_cache\u001b[0m\u001b[0;34m(\u001b[0m\u001b[0;34m)\u001b[0m\u001b[0;34m\u001b[0m\u001b[0;34m\u001b[0m\u001b[0m\n\u001b[1;32m    206\u001b[0m         \u001b[0;32mif\u001b[0m \u001b[0mname\u001b[0m \u001b[0;32mnot\u001b[0m \u001b[0;32min\u001b[0m \u001b[0mself\u001b[0m\u001b[0;34m.\u001b[0m\u001b[0m_location_cache\u001b[0m\u001b[0;34m:\u001b[0m\u001b[0;34m\u001b[0m\u001b[0;34m\u001b[0m\u001b[0m\n\u001b[0;32m--> 207\u001b[0;31m             \u001b[0;32mraise\u001b[0m \u001b[0mResourceNotFound\u001b[0m\u001b[0;34m(\u001b[0m\u001b[0mname\u001b[0m\u001b[0;34m,\u001b[0m \u001b[0mros_paths\u001b[0m\u001b[0;34m=\u001b[0m\u001b[0mself\u001b[0m\u001b[0;34m.\u001b[0m\u001b[0m_ros_paths\u001b[0m\u001b[0;34m)\u001b[0m\u001b[0;34m\u001b[0m\u001b[0;34m\u001b[0m\u001b[0m\n\u001b[0m\u001b[1;32m    208\u001b[0m         \u001b[0;32melse\u001b[0m\u001b[0;34m:\u001b[0m\u001b[0;34m\u001b[0m\u001b[0;34m\u001b[0m\u001b[0m\n\u001b[1;32m    209\u001b[0m             \u001b[0;32mreturn\u001b[0m \u001b[0mself\u001b[0m\u001b[0;34m.\u001b[0m\u001b[0m_location_cache\u001b[0m\u001b[0;34m[\u001b[0m\u001b[0mname\u001b[0m\u001b[0;34m]\u001b[0m\u001b[0;34m\u001b[0m\u001b[0;34m\u001b[0m\u001b[0m\n",
      "\u001b[0;31mResourceNotFound\u001b[0m: rosgraph"
     ]
    }
   ],
   "source": [
    "#!/bin/python3\n",
    "import math\n",
    "import rospy\n",
    "from std_msgs.msg import Float64\n",
    "from sensor_msgs.msg import JointState\n",
    "import roslib #; roslib.load_manifest('scorbot_joint')\n",
    "\n",
    "def joint_states_callback(data):\n",
    "    global current_position \n",
    "    global printJointStates\n",
    "    current_position = data\n",
    "    #if printJointStates:\n",
    "    print (current_position.position)\n",
    "\n",
    "\n",
    "\n",
    "def mover():\n",
    "    pub_base = rospy.Publisher('/scorbot/base_position_controller/command', Float64, queue_size=10)\n",
    "    pub_shoulder = rospy.Publisher('/scorbot/shoulder_position_controller/command', Float64, queue_size=10)\n",
    "    pub_elbow = rospy.Publisher('/scorbot/elbow_position_controller/command', Float64, queue_size=10)\n",
    "    pub_pitch = rospy.Publisher('/scorbot/pitch_position_controller/command', Float64, queue_size=10)\n",
    "    pub_roll = rospy.Publisher('/scorbot/roll_position_controller/command', Float64, queue_size=10)\n",
    "\n",
    "    # pub = rospy.Publisher('/scorbot/trajectory_controller/command', JointTrajectory, queue_size=10)\n",
    "\n",
    "    rospy.init_node('simple_mover_scorbot')\n",
    "    rate = rospy.Rate(0.2)\n",
    "    start_time = 0\n",
    "\n",
    "    while not start_time:\n",
    "        start_time = rospy.Time.now().to_sec()\n",
    "\n",
    "    while not rospy.is_shutdown():\n",
    "        elapsed = rospy.Time.now().to_sec() - start_time\n",
    "\n",
    "        # pub_base.publish (math.sin(2*math.pi*0.1*elapsed)*(math.pi/2))\n",
    "        # pub_shoulder.publish (math.sin(2*math.pi*0.1*elapsed)*(math.pi/2))\n",
    "        # pub_elbow.publish (math.sin(2*math.pi*0.1*elapsed)*(math.pi/2))\n",
    "        # pub_pitch.publish (math.sin(2*math.pi*0.1*elapsed)*(math.pi/2))\n",
    "        # pub_roll.publish (math.sin(2*math.pi*0.1*elapsed)*(math.pi/2))\n",
    "        \n",
    "        pub_shoulder.publish (0)\n",
    "        rate.sleep()\n",
    "        \n",
    "        pub_shoulder.publish (-90)\n",
    "        \n",
    "\n",
    "        rate.sleep()\n",
    "\n",
    "if __name__ == '__main__':\n",
    "    rospy.Subscriber('/scorbot/joint_states', JointState, joint_states_callback)\n",
    "\n",
    "    try:\n",
    "        mover()\n",
    "    except rospy.ROSInterruptException:\n",
    "        pass\n"
   ]
  },
  {
   "cell_type": "code",
   "execution_count": 3,
   "metadata": {},
   "outputs": [],
   "source": [
    "def bern_lamniscata(alpha):\n",
    "    import numpy as np\n",
    "    import matplotlib.pyplot as plt\n",
    "\n",
    "    t = np.linspace(0, 2*np.pi, num=200)\n",
    "\n",
    "    x = alpha * np.sqrt(2) * np.cos(t) / (np.sin(t)**2 + 1)\n",
    "    y = alpha * np.sqrt(2) * np.cos(t) * np.sin(t) / (np.sin(t)**2 + 1)\n",
    "\n",
    "\n",
    "    plt.plot(x, y)\n",
    "    plt.show()\n",
    "    return x,y"
   ]
  },
  {
   "source": [],
   "cell_type": "markdown",
   "metadata": {}
  },
  {
   "cell_type": "code",
   "execution_count": 4,
   "metadata": {},
   "outputs": [
    {
     "output_type": "stream",
     "name": "stdout",
     "text": [
      "a\n"
     ]
    }
   ],
   "source": [
    "print(\"a\")"
   ]
  },
  {
   "cell_type": "code",
   "execution_count": 5,
   "metadata": {},
   "outputs": [
    {
     "output_type": "display_data",
     "data": {
      "text/plain": "<Figure size 432x288 with 1 Axes>",
      "image/svg+xml": "<?xml version=\"1.0\" encoding=\"utf-8\" standalone=\"no\"?>\n<!DOCTYPE svg PUBLIC \"-//W3C//DTD SVG 1.1//EN\"\n  \"http://www.w3.org/Graphics/SVG/1.1/DTD/svg11.dtd\">\n<!-- Created with matplotlib (https://matplotlib.org/) -->\n<svg height=\"248.518125pt\" version=\"1.1\" viewBox=\"0 0 377.304687 248.518125\" width=\"377.304687pt\" xmlns=\"http://www.w3.org/2000/svg\" xmlns:xlink=\"http://www.w3.org/1999/xlink\">\n <defs>\n  <style type=\"text/css\">\n*{stroke-linecap:butt;stroke-linejoin:round;}\n  </style>\n </defs>\n <g id=\"figure_1\">\n  <g id=\"patch_1\">\n   <path d=\"M 0 248.518125 \nL 377.304687 248.518125 \nL 377.304687 0 \nL 0 0 \nz\n\" style=\"fill:none;\"/>\n  </g>\n  <g id=\"axes_1\">\n   <g id=\"patch_2\">\n    <path d=\"M 35.304688 224.64 \nL 370.104688 224.64 \nL 370.104688 7.2 \nL 35.304688 7.2 \nz\n\" style=\"fill:#ffffff;\"/>\n   </g>\n   <g id=\"matplotlib.axis_1\">\n    <g id=\"xtick_1\">\n     <g id=\"line2d_1\">\n      <defs>\n       <path d=\"M 0 0 \nL 0 3.5 \n\" id=\"m8d5bf5dcdf\" style=\"stroke:#000000;stroke-width:0.8;\"/>\n      </defs>\n      <g>\n       <use style=\"stroke:#000000;stroke-width:0.8;\" x=\"73.521557\" xlink:href=\"#m8d5bf5dcdf\" y=\"224.64\"/>\n      </g>\n     </g>\n     <g id=\"text_1\">\n      <!-- −60 -->\n      <defs>\n       <path d=\"M 10.59375 35.5 \nL 73.1875 35.5 \nL 73.1875 27.203125 \nL 10.59375 27.203125 \nz\n\" id=\"DejaVuSans-8722\"/>\n       <path d=\"M 33.015625 40.375 \nQ 26.375 40.375 22.484375 35.828125 \nQ 18.609375 31.296875 18.609375 23.390625 \nQ 18.609375 15.53125 22.484375 10.953125 \nQ 26.375 6.390625 33.015625 6.390625 \nQ 39.65625 6.390625 43.53125 10.953125 \nQ 47.40625 15.53125 47.40625 23.390625 \nQ 47.40625 31.296875 43.53125 35.828125 \nQ 39.65625 40.375 33.015625 40.375 \nz\nM 52.59375 71.296875 \nL 52.59375 62.3125 \nQ 48.875 64.0625 45.09375 64.984375 \nQ 41.3125 65.921875 37.59375 65.921875 \nQ 27.828125 65.921875 22.671875 59.328125 \nQ 17.53125 52.734375 16.796875 39.40625 \nQ 19.671875 43.65625 24.015625 45.921875 \nQ 28.375 48.1875 33.59375 48.1875 \nQ 44.578125 48.1875 50.953125 41.515625 \nQ 57.328125 34.859375 57.328125 23.390625 \nQ 57.328125 12.15625 50.6875 5.359375 \nQ 44.046875 -1.421875 33.015625 -1.421875 \nQ 20.359375 -1.421875 13.671875 8.265625 \nQ 6.984375 17.96875 6.984375 36.375 \nQ 6.984375 53.65625 15.1875 63.9375 \nQ 23.390625 74.21875 37.203125 74.21875 \nQ 40.921875 74.21875 44.703125 73.484375 \nQ 48.484375 72.75 52.59375 71.296875 \nz\n\" id=\"DejaVuSans-54\"/>\n       <path d=\"M 31.78125 66.40625 \nQ 24.171875 66.40625 20.328125 58.90625 \nQ 16.5 51.421875 16.5 36.375 \nQ 16.5 21.390625 20.328125 13.890625 \nQ 24.171875 6.390625 31.78125 6.390625 \nQ 39.453125 6.390625 43.28125 13.890625 \nQ 47.125 21.390625 47.125 36.375 \nQ 47.125 51.421875 43.28125 58.90625 \nQ 39.453125 66.40625 31.78125 66.40625 \nz\nM 31.78125 74.21875 \nQ 44.046875 74.21875 50.515625 64.515625 \nQ 56.984375 54.828125 56.984375 36.375 \nQ 56.984375 17.96875 50.515625 8.265625 \nQ 44.046875 -1.421875 31.78125 -1.421875 \nQ 19.53125 -1.421875 13.0625 8.265625 \nQ 6.59375 17.96875 6.59375 36.375 \nQ 6.59375 54.828125 13.0625 64.515625 \nQ 19.53125 74.21875 31.78125 74.21875 \nz\n\" id=\"DejaVuSans-48\"/>\n      </defs>\n      <g transform=\"translate(62.969213 239.238437)scale(0.1 -0.1)\">\n       <use xlink:href=\"#DejaVuSans-8722\"/>\n       <use x=\"83.789062\" xlink:href=\"#DejaVuSans-54\"/>\n       <use x=\"147.412109\" xlink:href=\"#DejaVuSans-48\"/>\n      </g>\n     </g>\n    </g>\n    <g id=\"xtick_2\">\n     <g id=\"line2d_2\">\n      <g>\n       <use style=\"stroke:#000000;stroke-width:0.8;\" x=\"116.573119\" xlink:href=\"#m8d5bf5dcdf\" y=\"224.64\"/>\n      </g>\n     </g>\n     <g id=\"text_2\">\n      <!-- −40 -->\n      <defs>\n       <path d=\"M 37.796875 64.3125 \nL 12.890625 25.390625 \nL 37.796875 25.390625 \nz\nM 35.203125 72.90625 \nL 47.609375 72.90625 \nL 47.609375 25.390625 \nL 58.015625 25.390625 \nL 58.015625 17.1875 \nL 47.609375 17.1875 \nL 47.609375 0 \nL 37.796875 0 \nL 37.796875 17.1875 \nL 4.890625 17.1875 \nL 4.890625 26.703125 \nz\n\" id=\"DejaVuSans-52\"/>\n      </defs>\n      <g transform=\"translate(106.020776 239.238437)scale(0.1 -0.1)\">\n       <use xlink:href=\"#DejaVuSans-8722\"/>\n       <use x=\"83.789062\" xlink:href=\"#DejaVuSans-52\"/>\n       <use x=\"147.412109\" xlink:href=\"#DejaVuSans-48\"/>\n      </g>\n     </g>\n    </g>\n    <g id=\"xtick_3\">\n     <g id=\"line2d_3\">\n      <g>\n       <use style=\"stroke:#000000;stroke-width:0.8;\" x=\"159.624682\" xlink:href=\"#m8d5bf5dcdf\" y=\"224.64\"/>\n      </g>\n     </g>\n     <g id=\"text_3\">\n      <!-- −20 -->\n      <defs>\n       <path d=\"M 19.1875 8.296875 \nL 53.609375 8.296875 \nL 53.609375 0 \nL 7.328125 0 \nL 7.328125 8.296875 \nQ 12.9375 14.109375 22.625 23.890625 \nQ 32.328125 33.6875 34.8125 36.53125 \nQ 39.546875 41.84375 41.421875 45.53125 \nQ 43.3125 49.21875 43.3125 52.78125 \nQ 43.3125 58.59375 39.234375 62.25 \nQ 35.15625 65.921875 28.609375 65.921875 \nQ 23.96875 65.921875 18.8125 64.3125 \nQ 13.671875 62.703125 7.8125 59.421875 \nL 7.8125 69.390625 \nQ 13.765625 71.78125 18.9375 73 \nQ 24.125 74.21875 28.421875 74.21875 \nQ 39.75 74.21875 46.484375 68.546875 \nQ 53.21875 62.890625 53.21875 53.421875 \nQ 53.21875 48.921875 51.53125 44.890625 \nQ 49.859375 40.875 45.40625 35.40625 \nQ 44.1875 33.984375 37.640625 27.21875 \nQ 31.109375 20.453125 19.1875 8.296875 \nz\n\" id=\"DejaVuSans-50\"/>\n      </defs>\n      <g transform=\"translate(149.072339 239.238437)scale(0.1 -0.1)\">\n       <use xlink:href=\"#DejaVuSans-8722\"/>\n       <use x=\"83.789062\" xlink:href=\"#DejaVuSans-50\"/>\n       <use x=\"147.412109\" xlink:href=\"#DejaVuSans-48\"/>\n      </g>\n     </g>\n    </g>\n    <g id=\"xtick_4\">\n     <g id=\"line2d_4\">\n      <g>\n       <use style=\"stroke:#000000;stroke-width:0.8;\" x=\"202.676245\" xlink:href=\"#m8d5bf5dcdf\" y=\"224.64\"/>\n      </g>\n     </g>\n     <g id=\"text_4\">\n      <!-- 0 -->\n      <g transform=\"translate(199.494995 239.238437)scale(0.1 -0.1)\">\n       <use xlink:href=\"#DejaVuSans-48\"/>\n      </g>\n     </g>\n    </g>\n    <g id=\"xtick_5\">\n     <g id=\"line2d_5\">\n      <g>\n       <use style=\"stroke:#000000;stroke-width:0.8;\" x=\"245.727808\" xlink:href=\"#m8d5bf5dcdf\" y=\"224.64\"/>\n      </g>\n     </g>\n     <g id=\"text_5\">\n      <!-- 20 -->\n      <g transform=\"translate(239.365308 239.238437)scale(0.1 -0.1)\">\n       <use xlink:href=\"#DejaVuSans-50\"/>\n       <use x=\"63.623047\" xlink:href=\"#DejaVuSans-48\"/>\n      </g>\n     </g>\n    </g>\n    <g id=\"xtick_6\">\n     <g id=\"line2d_6\">\n      <g>\n       <use style=\"stroke:#000000;stroke-width:0.8;\" x=\"288.779371\" xlink:href=\"#m8d5bf5dcdf\" y=\"224.64\"/>\n      </g>\n     </g>\n     <g id=\"text_6\">\n      <!-- 40 -->\n      <g transform=\"translate(282.416871 239.238437)scale(0.1 -0.1)\">\n       <use xlink:href=\"#DejaVuSans-52\"/>\n       <use x=\"63.623047\" xlink:href=\"#DejaVuSans-48\"/>\n      </g>\n     </g>\n    </g>\n    <g id=\"xtick_7\">\n     <g id=\"line2d_7\">\n      <g>\n       <use style=\"stroke:#000000;stroke-width:0.8;\" x=\"331.830934\" xlink:href=\"#m8d5bf5dcdf\" y=\"224.64\"/>\n      </g>\n     </g>\n     <g id=\"text_7\">\n      <!-- 60 -->\n      <g transform=\"translate(325.468434 239.238437)scale(0.1 -0.1)\">\n       <use xlink:href=\"#DejaVuSans-54\"/>\n       <use x=\"63.623047\" xlink:href=\"#DejaVuSans-48\"/>\n      </g>\n     </g>\n    </g>\n   </g>\n   <g id=\"matplotlib.axis_2\">\n    <g id=\"ytick_1\">\n     <g id=\"line2d_8\">\n      <defs>\n       <path d=\"M 0 0 \nL -3.5 0 \n\" id=\"m8ef3abf908\" style=\"stroke:#000000;stroke-width:0.8;\"/>\n      </defs>\n      <g>\n       <use style=\"stroke:#000000;stroke-width:0.8;\" x=\"35.304688\" xlink:href=\"#m8ef3abf908\" y=\"194.989099\"/>\n      </g>\n     </g>\n     <g id=\"text_8\">\n      <!-- −20 -->\n      <g transform=\"translate(7.2 198.788317)scale(0.1 -0.1)\">\n       <use xlink:href=\"#DejaVuSans-8722\"/>\n       <use x=\"83.789062\" xlink:href=\"#DejaVuSans-50\"/>\n       <use x=\"147.412109\" xlink:href=\"#DejaVuSans-48\"/>\n      </g>\n     </g>\n    </g>\n    <g id=\"ytick_2\">\n     <g id=\"line2d_9\">\n      <g>\n       <use style=\"stroke:#000000;stroke-width:0.8;\" x=\"35.304688\" xlink:href=\"#m8ef3abf908\" y=\"155.454549\"/>\n      </g>\n     </g>\n     <g id=\"text_9\">\n      <!-- −10 -->\n      <defs>\n       <path d=\"M 12.40625 8.296875 \nL 28.515625 8.296875 \nL 28.515625 63.921875 \nL 10.984375 60.40625 \nL 10.984375 69.390625 \nL 28.421875 72.90625 \nL 38.28125 72.90625 \nL 38.28125 8.296875 \nL 54.390625 8.296875 \nL 54.390625 0 \nL 12.40625 0 \nz\n\" id=\"DejaVuSans-49\"/>\n      </defs>\n      <g transform=\"translate(7.2 159.253768)scale(0.1 -0.1)\">\n       <use xlink:href=\"#DejaVuSans-8722\"/>\n       <use x=\"83.789062\" xlink:href=\"#DejaVuSans-49\"/>\n       <use x=\"147.412109\" xlink:href=\"#DejaVuSans-48\"/>\n      </g>\n     </g>\n    </g>\n    <g id=\"ytick_3\">\n     <g id=\"line2d_10\">\n      <g>\n       <use style=\"stroke:#000000;stroke-width:0.8;\" x=\"35.304688\" xlink:href=\"#m8ef3abf908\" y=\"115.92\"/>\n      </g>\n     </g>\n     <g id=\"text_10\">\n      <!-- 0 -->\n      <g transform=\"translate(21.942188 119.719219)scale(0.1 -0.1)\">\n       <use xlink:href=\"#DejaVuSans-48\"/>\n      </g>\n     </g>\n    </g>\n    <g id=\"ytick_4\">\n     <g id=\"line2d_11\">\n      <g>\n       <use style=\"stroke:#000000;stroke-width:0.8;\" x=\"35.304688\" xlink:href=\"#m8ef3abf908\" y=\"76.385451\"/>\n      </g>\n     </g>\n     <g id=\"text_11\">\n      <!-- 10 -->\n      <g transform=\"translate(15.579688 80.184669)scale(0.1 -0.1)\">\n       <use xlink:href=\"#DejaVuSans-49\"/>\n       <use x=\"63.623047\" xlink:href=\"#DejaVuSans-48\"/>\n      </g>\n     </g>\n    </g>\n    <g id=\"ytick_5\">\n     <g id=\"line2d_12\">\n      <g>\n       <use style=\"stroke:#000000;stroke-width:0.8;\" x=\"35.304688\" xlink:href=\"#m8ef3abf908\" y=\"36.850901\"/>\n      </g>\n     </g>\n     <g id=\"text_12\">\n      <!-- 20 -->\n      <g transform=\"translate(15.579688 40.65012)scale(0.1 -0.1)\">\n       <use xlink:href=\"#DejaVuSans-50\"/>\n       <use x=\"63.623047\" xlink:href=\"#DejaVuSans-48\"/>\n      </g>\n     </g>\n    </g>\n   </g>\n   <g id=\"line2d_13\">\n    <path clip-path=\"url(#pf66a78fafd)\" d=\"M 354.886506 115.92 \nL 354.65918 107.108145 \nL 353.980586 98.383724 \nL 352.860739 89.831964 \nL 351.315911 81.533797 \nL 349.368031 73.563994 \nL 347.043898 65.989606 \nL 344.374269 58.868778 \nL 341.392863 52.249957 \nL 338.135356 46.17152 \nL 334.638389 40.661761 \nL 330.938663 35.73923 \nL 327.072125 31.413344 \nL 323.073294 27.685209 \nL 318.974705 24.548587 \nL 314.806505 21.990942 \nL 310.596172 19.994515 \nL 306.368351 18.537372 \nL 302.144796 17.594392 \nL 297.944398 17.138183 \nL 293.783275 17.139885 \nL 289.674916 17.56987 \nL 285.630364 18.39834 \nL 281.658416 19.595807 \nL 277.765831 21.133489 \nL 273.957554 22.983604 \nL 270.236921 25.119593 \nL 266.605859 27.516278 \nL 263.065081 30.149956 \nL 259.614252 32.998447 \nL 256.252154 36.04111 \nL 252.976821 39.258822 \nL 249.785667 42.63394 \nL 246.675595 46.150236 \nL 243.643091 49.792833 \nL 240.68431 53.548117 \nL 234.971255 61.348129 \nL 229.501339 69.463435 \nL 224.237533 77.821888 \nL 219.141817 86.3633 \nL 211.729347 99.409359 \nL 202.075501 117.023301 \nL 192.402479 134.619314 \nL 184.950405 147.626291 \nL 179.81626 156.127049 \nL 174.504464 164.43078 \nL 168.97718 172.474552 \nL 163.197754 180.182808 \nL 160.20261 183.883374 \nL 157.131784 187.464599 \nL 153.981586 190.912248 \nL 150.7487 194.210778 \nL 147.430272 197.343263 \nL 144.024011 200.291324 \nL 140.528308 203.035085 \nL 136.942368 205.553134 \nL 133.26636 207.822529 \nL 129.50158 209.818817 \nL 125.650637 211.516116 \nL 121.717644 212.887232 \nL 117.708426 213.90385 \nL 113.630736 214.536794 \nL 109.494466 214.756364 \nL 105.311859 214.53278 \nL 101.097697 213.83672 \nL 96.869471 212.63996 \nL 92.647493 210.916138 \nL 88.454967 208.641608 \nL 84.317966 205.796393 \nL 80.26533 202.365213 \nL 76.328443 198.338547 \nL 72.540893 193.713702 \nL 68.937988 188.495826 \nL 65.556147 182.698811 \nL 62.432148 176.34602 \nL 59.60227 169.470765 \nL 57.101335 162.11648 \nL 54.961709 154.336537 \nL 53.212289 146.193656 \nL 51.877548 137.758921 \nL 50.976673 129.110398 \nL 50.522869 120.331418 \nL 50.522869 111.508582 \nL 50.976673 102.729602 \nL 51.877548 94.081079 \nL 53.212289 85.646344 \nL 54.961709 77.503463 \nL 57.101335 69.72352 \nL 59.60227 62.369235 \nL 62.432148 55.49398 \nL 65.556147 49.141189 \nL 68.937988 43.344174 \nL 72.540893 38.126298 \nL 76.328443 33.501453 \nL 80.26533 29.474787 \nL 84.317966 26.043607 \nL 88.454967 23.198392 \nL 92.647493 20.923862 \nL 96.869471 19.20004 \nL 101.097697 18.00328 \nL 105.311859 17.30722 \nL 109.494466 17.083636 \nL 113.630736 17.303206 \nL 117.708426 17.93615 \nL 121.717644 18.952768 \nL 125.650637 20.323884 \nL 129.50158 22.021183 \nL 133.26636 24.017471 \nL 136.942368 26.286866 \nL 140.528308 28.804915 \nL 144.024011 31.548676 \nL 147.430272 34.496737 \nL 150.7487 37.629222 \nL 153.981586 40.927752 \nL 157.131784 44.375401 \nL 160.20261 47.956626 \nL 163.197754 51.657192 \nL 168.97718 59.365448 \nL 174.504464 67.40922 \nL 179.81626 75.712951 \nL 184.950405 84.213709 \nL 189.945258 92.858591 \nL 197.260561 105.998568 \nL 214.175773 136.803113 \nL 219.141817 145.4767 \nL 224.237533 154.018112 \nL 229.501339 162.376565 \nL 234.971255 170.491871 \nL 240.68431 178.291883 \nL 243.643091 182.047167 \nL 246.675595 185.689764 \nL 249.785667 189.20606 \nL 252.976821 192.581178 \nL 256.252154 195.79889 \nL 259.614252 198.841553 \nL 263.065081 201.690044 \nL 266.605859 204.323722 \nL 270.236921 206.720407 \nL 273.957554 208.856396 \nL 277.765831 210.706511 \nL 281.658416 212.244193 \nL 285.630364 213.44166 \nL 289.674916 214.27013 \nL 293.783275 214.700115 \nL 297.944398 214.701817 \nL 302.144796 214.245608 \nL 306.368351 213.302628 \nL 310.596172 211.845485 \nL 314.806505 209.849058 \nL 318.974705 207.291413 \nL 323.073294 204.154791 \nL 327.072125 200.426656 \nL 330.938663 196.10077 \nL 334.638389 191.178239 \nL 338.135356 185.66848 \nL 341.392863 179.590043 \nL 344.374269 172.971222 \nL 347.043898 165.850394 \nL 349.368031 158.276006 \nL 351.315911 150.306203 \nL 352.860739 142.008036 \nL 353.980586 133.456276 \nL 354.65918 124.731855 \nL 354.886506 115.92 \nL 354.886506 115.92 \n\" style=\"fill:none;stroke:#1f77b4;stroke-linecap:square;stroke-width:1.5;\"/>\n   </g>\n   <g id=\"patch_3\">\n    <path d=\"M 35.304688 224.64 \nL 35.304688 7.2 \n\" style=\"fill:none;stroke:#000000;stroke-linecap:square;stroke-linejoin:miter;stroke-width:0.8;\"/>\n   </g>\n   <g id=\"patch_4\">\n    <path d=\"M 370.104688 224.64 \nL 370.104688 7.2 \n\" style=\"fill:none;stroke:#000000;stroke-linecap:square;stroke-linejoin:miter;stroke-width:0.8;\"/>\n   </g>\n   <g id=\"patch_5\">\n    <path d=\"M 35.304688 224.64 \nL 370.104688 224.64 \n\" style=\"fill:none;stroke:#000000;stroke-linecap:square;stroke-linejoin:miter;stroke-width:0.8;\"/>\n   </g>\n   <g id=\"patch_6\">\n    <path d=\"M 35.304688 7.2 \nL 370.104688 7.2 \n\" style=\"fill:none;stroke:#000000;stroke-linecap:square;stroke-linejoin:miter;stroke-width:0.8;\"/>\n   </g>\n  </g>\n </g>\n <defs>\n  <clipPath id=\"pf66a78fafd\">\n   <rect height=\"217.44\" width=\"334.8\" x=\"35.304688\" y=\"7.2\"/>\n  </clipPath>\n </defs>\n</svg>\n",
      "image/png": "[encoded data removed]"
     },
     "metadata": {
      "needs_background": "light"
     }
    },
    {
     "output_type": "execute_result",
     "data": {
      "text/plain": [
       "(array([ 70.71067812,  70.60507202,  70.28982474,  69.76958943,\n",
       "         69.05192562,  68.14702002,  67.06732264,  65.82712155,\n",
       "         64.44208229,  62.92877732,  61.30422922,  59.58548713,\n",
       "         57.78925163,  55.93155763,  54.02752035,  52.0911448 ,\n",
       "         50.13519571,  48.17112242,  46.20903127,  44.25769766,\n",
       "         42.3246094 ,  40.41603359,  38.53709995,  36.69189454,\n",
       "         34.88355862,  33.11438858,  31.38593393,  29.69909081,\n",
       "         28.05418959,  26.45107553,  24.88918195,  23.3675958 ,\n",
       "         21.88511575,  20.44030304,  19.03152566,  17.65699626,\n",
       "         16.31480446,  15.002944  ,  13.71933537,  12.46184452,\n",
       "         11.22829791,  10.0164947 ,   8.82421613,   7.64923283,\n",
       "          6.48931007,   5.34221153,   4.2057017 ,   3.07754717,\n",
       "          1.95551713,   0.83738318,  -0.27908136,  -1.39610234,\n",
       "         -2.51590592,  -3.64071951,  -4.77277267,  -5.91429753,\n",
       "         -7.06752864,  -8.23470217,  -9.41805399, -10.61981673,\n",
       "        -11.84221522, -13.0874603 , -14.3577405 , -15.6552113 ,\n",
       "        -16.98198159, -18.34009682, -19.73151841, -21.15809892,\n",
       "        -22.62155242, -24.1234194 , -25.66502584, -27.24743573,\n",
       "        -28.87139666, -30.537278  , -32.24500157, -33.99396463,\n",
       "        -35.78295573, -37.61006392, -39.4725828 , -41.36691124,\n",
       "        -43.28845347, -45.23152229, -47.18924979, -49.15351144,\n",
       "        -51.11487   , -53.06254686, -54.98442876, -56.86711815,\n",
       "        -58.69603498, -60.45557645, -62.12933905, -63.70040449,\n",
       "        -65.1516867 , -66.46633272, -67.62816509, -68.62214822,\n",
       "        -69.43485709, -70.05492343, -70.47343343, -70.68425193,\n",
       "        -70.68425193, -70.47343343, -70.05492343, -69.43485709,\n",
       "        -68.62214822, -67.62816509, -66.46633272, -65.1516867 ,\n",
       "        -63.70040449, -62.12933905, -60.45557645, -58.69603498,\n",
       "        -56.86711815, -54.98442876, -53.06254686, -51.11487   ,\n",
       "        -49.15351144, -47.18924979, -45.23152229, -43.28845347,\n",
       "        -41.36691124, -39.4725828 , -37.61006392, -35.78295573,\n",
       "        -33.99396463, -32.24500157, -30.537278  , -28.87139666,\n",
       "        -27.24743573, -25.66502584, -24.1234194 , -22.62155242,\n",
       "        -21.15809892, -19.73151841, -18.34009682, -16.98198159,\n",
       "        -15.6552113 , -14.3577405 , -13.0874603 , -11.84221522,\n",
       "        -10.61981673,  -9.41805399,  -8.23470217,  -7.06752864,\n",
       "         -5.91429753,  -4.77277267,  -3.64071951,  -2.51590592,\n",
       "         -1.39610234,  -0.27908136,   0.83738318,   1.95551713,\n",
       "          3.07754717,   4.2057017 ,   5.34221153,   6.48931007,\n",
       "          7.64923283,   8.82421613,  10.0164947 ,  11.22829791,\n",
       "         12.46184452,  13.71933537,  15.002944  ,  16.31480446,\n",
       "         17.65699626,  19.03152566,  20.44030304,  21.88511575,\n",
       "         23.3675958 ,  24.88918195,  26.45107553,  28.05418959,\n",
       "         29.69909081,  31.38593393,  33.11438858,  34.88355862,\n",
       "         36.69189454,  38.53709995,  40.41603359,  42.3246094 ,\n",
       "         44.25769766,  46.20903127,  48.17112242,  50.13519571,\n",
       "         52.0911448 ,  54.02752035,  55.93155763,  57.78925163,\n",
       "         59.58548713,  61.30422922,  62.92877732,  64.44208229,\n",
       "         65.82712155,  67.06732264,  68.14702002,  69.05192562,\n",
       "         69.76958943,  70.28982474,  70.60507202,  70.71067812]),\n",
       " array([ 0.00000000e+00,  2.22889973e+00,  4.43568377e+00,  6.59879436e+00,\n",
       "         8.69776018e+00,  1.07136685e+01,  1.26295593e+01,  1.44307254e+01,\n",
       "         1.61049117e+01,  1.76424118e+01,  1.90360686e+01,  2.02811899e+01,\n",
       "         2.13753938e+01,  2.23184006e+01,  2.31117883e+01,  2.37587273e+01,\n",
       "         2.42637101e+01,  2.46322849e+01,  2.48708053e+01,  2.49862003e+01,\n",
       "         2.49857699e+01,  2.48770080e+01,  2.46674521e+01,  2.43645607e+01,\n",
       "         2.39756143e+01,  2.35076403e+01,  2.29673560e+01,  2.23611304e+01,\n",
       "         2.16949593e+01,  2.09744526e+01,  2.02048314e+01,  1.93909325e+01,\n",
       "         1.85372190e+01,  1.76477954e+01,  1.67264250e+01,  1.57765508e+01,\n",
       "         1.48013168e+01,  1.38035900e+01,  1.27859833e+01,  1.17508775e+01,\n",
       "         1.07004434e+01,  9.63666284e+00,  8.56134975e+00,  7.47616971e+00,\n",
       "         6.38265915e+00,  5.28224379e+00,  4.17625632e+00,  3.06595350e+00,\n",
       "         1.95253278e+00,  8.37148407e-01, -2.79072663e-01, -1.39501516e+00,\n",
       "        -2.50955991e+00, -3.62156829e+00, -4.72986644e+00, -5.83322930e+00,\n",
       "        -6.93036425e+00, -8.01989426e+00, -9.10034052e+00, -1.01701043e+01,\n",
       "        -1.12274484e+01, -1.22704775e+01, -1.32971177e+01, -1.43050960e+01,\n",
       "        -1.52919184e+01, -1.62548476e+01, -1.71908810e+01, -1.80967280e+01,\n",
       "        -1.89687878e+01, -1.98031291e+01, -2.05954701e+01, -2.13411625e+01,\n",
       "        -2.20351783e+01, -2.26721022e+01, -2.32461303e+01, -2.37510781e+01,\n",
       "        -2.41803985e+01, -2.45272131e+01, -2.47843600e+01, -2.49444587e+01,\n",
       "        -2.49999975e+01, -2.49434437e+01, -2.47673798e+01, -2.44646675e+01,\n",
       "        -2.40286382e+01, -2.34533109e+01, -2.27336328e+01, -2.18657387e+01,\n",
       "        -2.08472206e+01, -1.96773970e+01, -1.83575701e+01, -1.68912540e+01,\n",
       "        -1.52843578e+01, -1.35453080e+01, -1.16850909e+01, -9.71720632e+00,\n",
       "        -7.65751899e+00, -5.52400903e+00, -3.33642305e+00, -1.11583871e+00,\n",
       "         1.11583871e+00,  3.33642305e+00,  5.52400903e+00,  7.65751899e+00,\n",
       "         9.71720632e+00,  1.16850909e+01,  1.35453080e+01,  1.52843578e+01,\n",
       "         1.68912540e+01,  1.83575701e+01,  1.96773970e+01,  2.08472206e+01,\n",
       "         2.18657387e+01,  2.27336328e+01,  2.34533109e+01,  2.40286382e+01,\n",
       "         2.44646675e+01,  2.47673798e+01,  2.49434437e+01,  2.49999975e+01,\n",
       "         2.49444587e+01,  2.47843600e+01,  2.45272131e+01,  2.41803985e+01,\n",
       "         2.37510781e+01,  2.32461303e+01,  2.26721022e+01,  2.20351783e+01,\n",
       "         2.13411625e+01,  2.05954701e+01,  1.98031291e+01,  1.89687878e+01,\n",
       "         1.80967280e+01,  1.71908810e+01,  1.62548476e+01,  1.52919184e+01,\n",
       "         1.43050960e+01,  1.32971177e+01,  1.22704775e+01,  1.12274484e+01,\n",
       "         1.01701043e+01,  9.10034052e+00,  8.01989426e+00,  6.93036425e+00,\n",
       "         5.83322930e+00,  4.72986644e+00,  3.62156829e+00,  2.50955991e+00,\n",
       "         1.39501516e+00,  2.79072663e-01, -8.37148407e-01, -1.95253278e+00,\n",
       "        -3.06595350e+00, -4.17625632e+00, -5.28224379e+00, -6.38265915e+00,\n",
       "        -7.47616971e+00, -8.56134975e+00, -9.63666284e+00, -1.07004434e+01,\n",
       "        -1.17508775e+01, -1.27859833e+01, -1.38035900e+01, -1.48013168e+01,\n",
       "        -1.57765508e+01, -1.67264250e+01, -1.76477954e+01, -1.85372190e+01,\n",
       "        -1.93909325e+01, -2.02048314e+01, -2.09744526e+01, -2.16949593e+01,\n",
       "        -2.23611304e+01, -2.29673560e+01, -2.35076403e+01, -2.39756143e+01,\n",
       "        -2.43645607e+01, -2.46674521e+01, -2.48770080e+01, -2.49857699e+01,\n",
       "        -2.49862003e+01, -2.48708053e+01, -2.46322849e+01, -2.42637101e+01,\n",
       "        -2.37587273e+01, -2.31117883e+01, -2.23184006e+01, -2.13753938e+01,\n",
       "        -2.02811899e+01, -1.90360686e+01, -1.76424118e+01, -1.61049117e+01,\n",
       "        -1.44307254e+01, -1.26295593e+01, -1.07136685e+01, -8.69776018e+00,\n",
       "        -6.59879436e+00, -4.43568377e+00, -2.22889973e+00, -1.73191211e-14]))"
      ]
     },
     "metadata": {},
     "execution_count": 5
    }
   ],
   "source": [
    "bern_lamniscata(50)"
   ]
  },
  {
   "cell_type": "code",
   "execution_count": 7,
   "metadata": {},
   "outputs": [],
   "source": [
    "!source /opt/ros/noetic/setup.bash\n",
    "!source ~/catkin_ws_no_effor/devel/setup.bash"
   ]
  },
  {
   "cell_type": "code",
   "execution_count": null,
   "metadata": {},
   "outputs": [],
   "source": []
  }
 ]
}