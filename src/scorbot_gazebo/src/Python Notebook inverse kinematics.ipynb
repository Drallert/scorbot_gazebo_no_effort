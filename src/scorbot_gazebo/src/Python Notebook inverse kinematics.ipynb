{
 "cells": [
  {
   "cell_type": "markdown",
   "metadata": {},
   "source": [
    "# Python code for the Scorbot robotic arm (project SMALL)\n",
    "\n",
    "This python script includes the computation of the kinematics for the Scorbot robot. Thus, the forward and inverse kinematics are solved. The forward kinematics equations give an unique solution. However, the inverse kinematics equations depend on both the position of the wrist and the target position. \n",
    "The working principle of this script is to minimice the angle between consecutive joints. \n",
    "\n",
    "The notebook has been developped using Python 3\n",
    "\n",
    "Most of the cells include markdown cells above to deeply explian its functionality.\n",
    "\n",
    "#### Developed by Fernando Perez-Peña (UCA) (fernandoperez.pena@uca.es)"
   ]
  },
  {
   "cell_type": "markdown",
   "metadata": {},
   "source": [
    "First, the packages needed are imported"
   ]
  },
  {
   "cell_type": "code",
   "execution_count": 7,
   "metadata": {},
   "outputs": [],
   "source": [
    "import numpy as np \n",
    "import matplotlib.pyplot as plt"
   ]
  },
  {
   "cell_type": "markdown",
   "metadata": {},
   "source": [
    "The following cell has to be executed only once since it contains the values of the links and several parameters of the robotic platform"
   ]
  },
  {
   "cell_type": "code",
   "execution_count": 8,
   "metadata": {},
   "outputs": [],
   "source": [
    "#print (\"Introduce the lenghts of the links (cm)\\n\")\n",
    "#l1 = float(input(\"Lenght of the first link \"))\n",
    "#l2 = float(input(\"Lenght of the second link \"))\n",
    "#l3 = float(input(\"Lenght of the third link \"))\n",
    "#l4 = float(input(\"Lenght of the third link \"))\n",
    "#l5 = float(input(\"Lenght of the third link \"))\n",
    "\n",
    "#Include the parameters of the robotic arm. \n"
   ]
  },
  {
   "cell_type": "code",
   "execution_count": 9,
   "metadata": {},
   "outputs": [
    {
     "output_type": "stream",
     "name": "stdout",
     "text": [
      "Forward and inverse kinematics\n"
     ]
    }
   ],
   "source": [
    "print(\"Forward and inverse kinematics\")\n",
    "c=input(\"Type 'F' if you want to solve the forward kinematcis or 'I' if you want to solve the inverse kinematics problem\")"
   ]
  },
  {
   "cell_type": "code",
   "execution_count": null,
   "metadata": {},
   "outputs": [],
   "source": []
  },
  {
   "cell_type": "markdown",
   "metadata": {},
   "source": [
    "The links of the arm need to be introduced to be able to compute the inverse kinematics problem. \n",
    "Suggestion: If you are going to use the notebook for one specific arm, you can introduce the links (cm) and remove the user input. "
   ]
  },
  {
   "cell_type": "code",
   "execution_count": 10,
   "metadata": {},
   "outputs": [],
   "source": [
    "# px = float(input(\"Which is the target position (X-axis)? \"))\n",
    "# py = float(input(\"Which is the target position (Y-axis)? \"))\n",
    "# pz = float(input(\"Which is the target position (Z-axis)? \"))\n",
    "px = 70\n",
    "py = 0\n",
    "pz = 0"
   ]
  },
  {
   "cell_type": "markdown",
   "metadata": {},
   "source": [
    "We are going to represent the possibilities for the wirst:"
   ]
  },
  {
   "cell_type": "code",
   "execution_count": 11,
   "metadata": {},
   "outputs": [
    {
     "output_type": "error",
     "ename": "NameError",
     "evalue": "name 'l1' is not defined",
     "traceback": [
      "\u001b[0;31m---------------------------------------------------------------------------\u001b[0m",
      "\u001b[0;31mNameError\u001b[0m                                 Traceback (most recent call last)",
      "\u001b[0;32m<ipython-input-11-689ccf5f5fd7>\u001b[0m in \u001b[0;36m<module>\u001b[0;34m\u001b[0m\n\u001b[0;32m----> 1\u001b[0;31m \u001b[0mcircle1\u001b[0m \u001b[0;34m=\u001b[0m \u001b[0mplt\u001b[0m\u001b[0;34m.\u001b[0m\u001b[0mCircle\u001b[0m\u001b[0;34m(\u001b[0m\u001b[0;34m(\u001b[0m\u001b[0;36m0\u001b[0m\u001b[0;34m,\u001b[0m \u001b[0;36m0\u001b[0m\u001b[0;34m)\u001b[0m\u001b[0;34m,\u001b[0m \u001b[0ml1\u001b[0m\u001b[0;34m+\u001b[0m\u001b[0ml2\u001b[0m\u001b[0;34m,\u001b[0m \u001b[0mfc\u001b[0m\u001b[0;34m=\u001b[0m\u001b[0;34m'None'\u001b[0m\u001b[0;34m,\u001b[0m \u001b[0mcolor\u001b[0m\u001b[0;34m=\u001b[0m\u001b[0;34m'r'\u001b[0m\u001b[0;34m)\u001b[0m\u001b[0;34m\u001b[0m\u001b[0;34m\u001b[0m\u001b[0m\n\u001b[0m\u001b[1;32m      2\u001b[0m \u001b[0mcircle2\u001b[0m \u001b[0;34m=\u001b[0m \u001b[0mplt\u001b[0m\u001b[0;34m.\u001b[0m\u001b[0mCircle\u001b[0m\u001b[0;34m(\u001b[0m\u001b[0;34m(\u001b[0m\u001b[0mpx\u001b[0m\u001b[0;34m,\u001b[0m \u001b[0mpy\u001b[0m\u001b[0;34m)\u001b[0m\u001b[0;34m,\u001b[0m \u001b[0ml3\u001b[0m\u001b[0;34m,\u001b[0m \u001b[0mfc\u001b[0m\u001b[0;34m=\u001b[0m\u001b[0;34m'None'\u001b[0m\u001b[0;34m,\u001b[0m \u001b[0mcolor\u001b[0m\u001b[0;34m=\u001b[0m\u001b[0;34m'b'\u001b[0m\u001b[0;34m)\u001b[0m\u001b[0;34m\u001b[0m\u001b[0;34m\u001b[0m\u001b[0m\n\u001b[1;32m      3\u001b[0m \u001b[0;34m\u001b[0m\u001b[0m\n\u001b[1;32m      4\u001b[0m \u001b[0;34m\u001b[0m\u001b[0m\n\u001b[1;32m      5\u001b[0m \u001b[0mfig_wirst_region\u001b[0m \u001b[0;34m=\u001b[0m \u001b[0mplt\u001b[0m\u001b[0;34m.\u001b[0m\u001b[0mfigure\u001b[0m\u001b[0;34m(\u001b[0m\u001b[0mfigsize\u001b[0m\u001b[0;34m=\u001b[0m\u001b[0;34m(\u001b[0m\u001b[0;36m15\u001b[0m\u001b[0;34m,\u001b[0m \u001b[0;36m15\u001b[0m\u001b[0;34m)\u001b[0m\u001b[0;34m,\u001b[0m \u001b[0mdpi\u001b[0m\u001b[0;34m=\u001b[0m\u001b[0;36m80\u001b[0m\u001b[0;34m)\u001b[0m\u001b[0;34m\u001b[0m\u001b[0;34m\u001b[0m\u001b[0m\n",
      "\u001b[0;31mNameError\u001b[0m: name 'l1' is not defined"
     ]
    }
   ],
   "source": [
    "circle1 = plt.Circle((0, 0), l1+l2, fc='None', color='r')\n",
    "circle2 = plt.Circle((px, py), l3, fc='None', color='b')\n",
    "\n",
    "\n",
    "fig_wirst_region = plt.figure(figsize=(15, 15), dpi=80)\n",
    "ax = fig_wirst_region.add_subplot(111)\n",
    "ax.set_xlim(0,l1+l2+l3)\n",
    "ax.set_ylim(-2*l3,2*l3)\n",
    "ax.add_artist(circle1)\n",
    "ax.add_artist(circle2)\n",
    "ax.set_yticks(np.arange(-2*l3,2*l3,0.5))\n",
    "ax.tick_params(labelsize=8) \n",
    "ax.grid()\n",
    "\n",
    "\n",
    "#Now we are going to set the criterion of fixing the wrist the closest to the target position. \n",
    "\n",
    "print (\"In dotted green you find the line where wx=px and that line goes from (-l3,l3)\")\n",
    "ax.plot([px,px],[-l3,+l3],'g--')\n",
    "\n",
    "##NOT SURE WHAT IS REPRESENTING THE CODE BELOW\n",
    "\n",
    "from sympy import *\n",
    "\n",
    "x,y= symbols('x,y')\n",
    "#print \"If we make wx=px (taking the most vertical solution)\"\n",
    "[y1,y2] = solve([(px-px)**2+(y-py)**2-l3**2],dict=True)\n",
    "#print y1,y2\n",
    "\n",
    "#print \"If we make wy=py (pushing the last link to be completely horizontal)\"\n",
    "[x1,x2] = solve([(x-px)**2+(py-py)**2-l3**2], dict=True)\n",
    "#print x1,x2\n",
    "\n",
    "circle_1 = Eq((x-px)**2+(y-py)**2,l3**2)\n",
    "circle_2= Eq(x**2+y**2,(l1+l2)**2)\n",
    "(x,y)=solve([circle_1,circle_2],(x,y))\n",
    "\n",
    "ax.plot(x[0],x[1],'o')\n",
    "ax.plot(y[0],y[1],'o')\n",
    "\n",
    "ax.plot(px,py,'*')\n",
    "\n",
    "print (\"The solution is:\")\n",
    "print (x[0],\",\",x[1])\n",
    "print (y[0],\",\",y[1])\n",
    "\n",
    "print (\"All the points in that curve are valid solutions for (wx,wy)\")\n",
    "\n",
    "a=np.array([x[1]-py],dtype=np.float64)\n",
    "b=np.array([x[0]-px],dtype=np.float64)\n",
    "\n",
    "c1=np.arctan2(a,b)#* 180 / np.pi\n",
    "print (c1* 180 / np.pi)\n",
    "\n",
    "a=np.array([y[1]-py],dtype=np.float64)\n",
    "b=np.array([y[0]-px],dtype=np.float64)\n",
    "\n",
    "c2=np.arctan2(a,b)#* 180 / np.pi\n",
    "print (c2* 180 / np.pi)\n",
    "\n",
    "\n",
    "#We set the angle values to positive values so we can then create the incremental array \n",
    "if (c1<0): \n",
    "    c1=c1+2*np.pi\n",
    "elif (c2<0):\n",
    "    c2=c2+2*np.pi\n",
    "\n",
    "print (\"Angles updated according to the anti-clock wise direction\")\n",
    "print (c1* 180 / np.pi)\n",
    "print (c2* 180 / np.pi)\n",
    "\n",
    "#Now, c1 and c2 are positive angles (anti clock-wise reference) and we can build the incremental vector of angles. \n",
    "if (c1>c2): \n",
    "    print (\"Since we are only interested in approaching the target from above, we limited the range of theta from %f to 180 degrees\"%(c2*180/np.pi))\n",
    "    theta=np.arange(c2,np.pi,0.0001)\n",
    "    first_border=c2\n",
    "    #theta=np.arange(c2,c1,0.001)\n",
    "else:\n",
    "    print (\"Since we are only interested in approaching the target from above, we limited the range of theta from %f to 180 degrees\"%(c1*180/np.pi))\n",
    "    theta=np.arange(c1,np.pi,0.0001)\n",
    "    first_border=c1\n",
    "    #theta=np.arange(c1,c2,0.001)\n",
    "    \n",
    "#We give values to the the arch which are posible solutions for the wirst. \n",
    "x_=px+l3*np.cos(theta)\n",
    "y_=py+l3*np.sin(theta)\n",
    "\n",
    "#To plot, we use a reduced set of angles (for the shake of clarity)\n",
    "ax.plot(x_,y_,'*')\n"
   ]
  },
  {
   "cell_type": "code",
   "execution_count": 15,
   "metadata": {},
   "outputs": [
    {
     "name": "stdout",
     "output_type": "stream",
     "text": [
      "Now, we have to set wx=lambda*px and try to maximize the resulting function or minimize the function (1-lamda)\n",
      "wx=px+l3cos(theta)\n",
      "wx=lambda*px\n",
      "lamddapx=px+l3cos(theta)\n",
      "lambda=f(theta)=1+(1/px)(l3cos(theta))\n",
      "(1-lambda)=g(theta)=-(1/px)(l3cos(theta))\n",
      "g'(theta)=l3sin(theta)/px\n",
      "Lambda= 2.1233854041429768e-05\n",
      "wx= 29.99936298437876\n",
      "The cos(theta)= 1.721663841194801e-05\n",
      "The theta is 89.99901355928155\n",
      "wx= 29.99936298437876\n",
      "wy= 16.999999994516365\n"
     ]
    },
    {
     "data": {
      "image/png": "[encoded data removed]",
      "text/plain": [
       "<matplotlib.figure.Figure at 0x12739128>"
      ]
     },
     "metadata": {},
     "output_type": "display_data"
    }
   ],
   "source": [
    "print (\"Now, we have to set wx=lambda*px and try to maximize the resulting function or minimize the function (1-lamda)\")\n",
    "\n",
    "#theta=np.arange(c1,c2+(2*np.pi),0.0001)\n",
    "#x_=px+l3*np.cos(theta)\n",
    "#wx=lm*px\n",
    "#lm*px = px+l3*np.cos(theta)\n",
    "#lm=1+(1/px)*(l3*np.cos(theta))\n",
    "#the function 1-lm = -l3*np.cos(theta)/px\n",
    "#derivative: l3*np.sin(theta)/px\n",
    "\n",
    "print (\"wx=px+l3cos(theta)\")\n",
    "print (\"wx=lambda*px\")\n",
    "print (\"lamddapx=px+l3cos(theta)\")\n",
    "print (\"lambda=f(theta)=1+(1/px)(l3cos(theta))\")\n",
    "print (\"(1-lambda)=g(theta)=-(1/px)(l3cos(theta))\")\n",
    "print (\"g'(theta)=l3sin(theta)/px\")\n",
    "\n",
    "fun=(l3*np.sin(theta))/px\n",
    "\n",
    "aux=abs(fun)\n",
    "#aux=fun\n",
    "\n",
    "#print aux\n",
    "print (\"Lambda=\",aux.min())\n",
    "\n",
    "print (\"wx=\",(1-aux.min())*px)\n",
    "#This is the maximum value for lambda\n",
    "lm=1-aux.min()\n",
    "\n",
    "print (\"The cos(theta)=\",px*(1-lm)/l3)\n",
    "          \n",
    "theta_selected=np.arccos(px*(1-lm)/l3)\n",
    "print (\"The theta is\",theta_selected * 180 / np.pi)\n",
    "\n",
    "#We have to check if the theta is included within the range to set the sign of the angle\n",
    "if ((theta_selected<first_border)):# and (theta_selected>np.pi)) : \n",
    "    print (\"The only solution, to have a right approach to the target is to do it from below\")\n",
    "    theta_selected=-np.arccos(px*(1-lm)/l3)\n",
    "    \n",
    "    print (\"Or using wx=lambdapx, wx=%fpx\"%lm)\n",
    "    wx=float(x[0])\n",
    "    wy=float(x[1])\n",
    "    \n",
    "    \n",
    "else: \n",
    "    \n",
    "    wx=lm*px\n",
    "    wy=py+l3*np.sin(theta_selected)\n",
    "    \n",
    "    \n",
    "plt.plot(theta,aux,'b--',label=\"Funct. to min.\")\n",
    "plt.plot(theta,abs(-l3*np.cos(theta)/px),'r--',label=\"Function to max.\")\n",
    "plt.grid()\n",
    "plt.legend()\n",
    "\n",
    "print (\"wx=\",wx)\n",
    "print (\"wy=\",wy)\n",
    "\n"
   ]
  },
  {
   "cell_type": "markdown",
   "metadata": {},
   "source": [
    "## The following cell is not needed anymore"
   ]
  },
  {
   "cell_type": "markdown",
   "metadata": {},
   "source": [
    "wrist = (raw_input(\"Which is the wirst position you want to introduce (WX or WY)? \"))\n",
    "\n",
    "if (wrist == \"wx\"):\n",
    "    wx = float(raw_input(\"Please, introduce the position of the wrist for the X-axis \"))\n",
    "    \n",
    "    wy1 = py-np.sqrt(l3*l3-(px-wx)**2)\n",
    "    wy2 = py+np.sqrt(l3*l3-(px-wx)**2)\n",
    "    \n",
    "    print \"These are the options for wy:\"\n",
    "    print \"wy_1=\",wy1,\"or wy_2=\", wy2\n",
    "    print \"Which one do you select? (1 or 2) \"\n",
    "    if (int(raw_input ()) == 1 ): \n",
    "        wy = wy1\n",
    "    else:\n",
    "        wy = wy2\n",
    "    \n",
    "    \n",
    "elif (wrist == \"wy\"):\n",
    "    wy = float(raw_input(\"Please, introduce the position of the wrist for the Y-axis \"))\n",
    "    \n",
    "    wx1 = px-np.sqrt(l3*l3-(py-wy)**2)\n",
    "    wx2 = px+np.sqrt(l3*l3-(py-wy)**2)\n",
    "    \n",
    "    print \"These are the options for wx:\"\n",
    "    print \"wx_1=\",wx1,\"or wx_2=\", wx2\n",
    "    print \"Which one do you select? (1 or 2) \"\n",
    "    if (int(raw_input ()) == 1 ): \n",
    "        wx = wx1\n",
    "    else:\n",
    "        wx = wx2\n",
    "    \n",
    "else: \n",
    "    print (\"Error\")\n",
    "\n",
    "print \"\\nData introduced:\"\n",
    "print \"l1=\",l1\n",
    "print \"l2=\",l2\n",
    "print \"l3=\",l3,\"\\n\"\n",
    "print \"px=\",px\n",
    "print \"py=\",py\n",
    "print \"wx=\",wx\n",
    "print \"wy=\",wy"
   ]
  },
  {
   "cell_type": "code",
   "execution_count": 16,
   "metadata": {},
   "outputs": [
    {
     "name": "stdout",
     "output_type": "stream",
     "text": [
      "Is the following restriction met?\n",
      "(l1+l2)>=sqrt(wx^2+wy^2)\n",
      "52.0 >= 34.4813250801368 \n",
      "\n",
      "cos(q2)= -0.14775622781661296\n",
      "If cos has a positivesign, the angle should be on the first or fourth quadrant\n",
      "If cos has a negative sign, the angle should be on the second or third quadrant\n",
      "\n",
      "q2[0]= 261.5030810093602 fourth quadrant or, which is equivalent:\n",
      "q2[1]= 98.4969189906398 first quadrant \n"
     ]
    }
   ],
   "source": [
    "#The second restriction: \n",
    "#print \"The second restriction:\"\n",
    "print (\"Is the following restriction met?\")\n",
    "print (\"(l1+l2)>=sqrt(wx^2+wy^2)\")\n",
    "print (l1+l2,\">=\",np.sqrt(wx*wx+wy*wy),\"\\n\")\n",
    "\n",
    "#Check if the wirst position is in the work-space of the robot \n",
    "if (l1+l2)<(np.sqrt(wx*wx+wy*wy)):\n",
    "    print (\"The wirst is out of the work-space\")\n",
    "    #print \"To continue, we are going to change the value of wx by subtracting 1.0 to the original value\"\n",
    "    #wx=wx-1.0\n",
    "\n",
    "#Computation of the cos(q2)(c3)\n",
    "c2=(wy*wy+wx*wx-l1*l1-l2*l2)/(2*l1*l2)\n",
    "print (\"cos(q2)=\",c2)\n",
    "print (\"If cos has a positivesign, the angle should be on the first or fourth quadrant\")\n",
    "print (\"If cos has a negative sign, the angle should be on the second or third quadrant\\n\")\n",
    "\n",
    "#Computation of the sin(q2)(s3)\n",
    "#The sign choosen will determine the up or down elbow configuration\n",
    "s2=-np.sqrt(1-c2*c2)\n",
    "#Computation of q2    \n",
    "q2=np.arctan2(s2,c2)\n",
    "\n",
    "if (q2*180/np.pi)>0 : \n",
    "    print (\"q2[0]=\",q2*180/np.pi,\"First quadrant\",\"or, which is equivalent:\")\n",
    "    print (\"q2[1]=\",360-q2*180/np.pi, \"fourth quadrant\")\n",
    "    \n",
    "else: \n",
    "   \n",
    "    print (\"q2[0]=\",q2*180/np.pi+360,\"fourth quadrant\",\"or, which is equivalent:\")\n",
    "    print (\"q2[1]=\",-q2*180/np.pi,\"first quadrant \")\n",
    "    \n",
    "q2_bis=-q2"
   ]
  },
  {
   "cell_type": "code",
   "execution_count": 17,
   "metadata": {},
   "outputs": [
    {
     "name": "stdout",
     "output_type": "stream",
     "text": [
      "We are going to consider q2=-98.496919\n",
      "cos(q1)= 0.01901327836356617\n",
      "The sign of the sin of q1 could be positive or negative:\n",
      "0.9998192312842705 or -0.9998192312842705\n",
      "So we have two angles sets:\n",
      "q1= 88.91055374833586\n",
      "q2= -98.4969189906398\n",
      "---\n",
      "q1= -88.91055374833586\n",
      "q2= -98.4969189906398\n",
      "******************************************\n",
      "We are going to consider q2=98.496919\n",
      "cos(q1)= 0.8674882282371948\n",
      "Here again, the sign of the sin of q1 could be positive or negative:\n",
      "So we have two angles sets:\n",
      "q1= 29.831945542493155\n",
      "q2= 98.4969189906398\n",
      "---\n",
      "q1= -29.831945542493155\n",
      "q2= 98.4969189906398\n"
     ]
    }
   ],
   "source": [
    "print (\"We are going to consider q2=%f\"%(q2*180/np.pi))\n",
    "#Computation of the cos(q1)(c1)\n",
    "\n",
    "c1=(l2*s2*wy+wx*(l1+l2*c2))/(l1*l1+2*l1*l2*c2+l2*l2)\n",
    "    \n",
    "print (\"cos(q1)=\",c1)\n",
    "    \n",
    "#Computation of the sin(q1)(s1)\n",
    "print (\"The sign of the sin of q1 could be positive or negative:\")\n",
    "s1=np.sqrt(1-c1*c1)\n",
    "s1_bis=-np.sqrt(1-c1*c1)\n",
    "print (s1,\"or\",s1_bis)\n",
    "#Computation of q1\n",
    "q1=np.arctan2(s1,c1)\n",
    "q1_bis=np.arctan2(s1_bis,c1)\n",
    "#To print the angle, uncomment the following line: \n",
    "print (\"So we have two angles sets:\")\n",
    "print (\"q1=\",q1*180/np.pi)\n",
    "print (\"q2=\",q2*180/np.pi)\n",
    "print (\"---\")\n",
    "print (\"q1=\",q1_bis*180/np.pi)\n",
    "print (\"q2=\",q2*180/np.pi)\n",
    "\n",
    "print (\"******************************************\")\n",
    "\n",
    "print (\"We are going to consider q2=%f\"%(q2_bis*180/np.pi))\n",
    "#Computation of the cos(q1)(c1)\n",
    "\n",
    "c1=(l2*(np.sin(q2_bis))*wy+wx*(l1+l2*c2))/(l1*l1+2*l1*l2*c2+l2*l2)\n",
    "    \n",
    "print (\"cos(q1)=\",c1)\n",
    "    \n",
    "#Computation of the sin(q1)(s1)\n",
    "print (\"Here again, the sign of the sin of q1 could be positive or negative:\")\n",
    "s1_1=np.sqrt(1-c1*c1)\n",
    "s1_1_bis=-np.sqrt(1-c1*c1)\n",
    "#Computation of q1\n",
    "q1_1=np.arctan2(s1_1,c1)\n",
    "q1_1_bis=np.arctan2(s1_1_bis,c1)\n",
    "\n",
    "print (\"So we have two angles sets:\")\n",
    "print (\"q1=\",q1_1*180/np.pi)\n",
    "print (\"q2=\",q2_bis*180/np.pi)\n",
    "print (\"---\")\n",
    "print (\"q1=\",q1_1_bis*180/np.pi)\n",
    "print (\"q2=\",q2_bis*180/np.pi)"
   ]
  },
  {
   "cell_type": "code",
   "execution_count": 18,
   "metadata": {},
   "outputs": [
    {
     "name": "stdout",
     "output_type": "stream",
     "text": [
      "Now, we are plotting the angles we already have, q1 and q2.\n",
      "The partial end-effetor should be at the user-defined wrist position\n"
     ]
    },
    {
     "data": {
      "image/png": "[encoded data removed]",
      "text/plain": [
       "<matplotlib.figure.Figure at 0x120fea58>"
      ]
     },
     "metadata": {},
     "output_type": "display_data"
    }
   ],
   "source": [
    "print (\"Now, we are plotting the angles we already have, q1 and q2.\" )\n",
    "print (\"The partial end-effetor should be at the user-defined wrist position\")\n",
    "\n",
    "fig = plt.figure()\n",
    "ax = fig.add_subplot(111)\n",
    "ax.plot([0,l1*np.cos(q1),l1*np.cos(q1)+l2*np.cos(q1+q2)],[0,l1*np.sin(q1),l1*np.sin(q1)+l2*np.sin(q1+q2)],'r-o')\n",
    "ax.plot([0,l1*np.cos(q1_bis),l1*np.cos(q1_bis)+l2*np.cos(q1_bis+q2_bis)],[0,l1*np.sin(q1_bis),l1*np.sin(q1_bis)+l2*np.sin(q1_bis+q2_bis)],'g--o')\n",
    "\n",
    "ax.plot([0,l1*np.cos(q1_1),l1*np.cos(q1_1)+l2*np.cos(q1_1+q2_bis)],[0,l1*np.sin(q1_1),l1*np.sin(q1_1)+l2*np.sin(q1_1+q2_bis)],'b-o')\n",
    "ax.plot([0,l1*np.cos(q1_1_bis),l1*np.cos(q1_1_bis)+l2*np.cos(q1_1_bis+q2_bis)],[0,l1*np.sin(q1_1_bis),l1*np.sin(q1_1_bis)+l2*np.sin(q1_1_bis+q2_bis)],'c--o')\n",
    "\n",
    "\n",
    "ax.grid()"
   ]
  },
  {
   "cell_type": "code",
   "execution_count": 19,
   "metadata": {},
   "outputs": [
    {
     "name": "stdout",
     "output_type": "stream",
     "text": [
      "We are going to discard the sets that are not reaching the wrist position\n",
      "wrist= (29.99936298437876, 16.999999994516365)\n",
      "So we have the following angles sets:\n",
      "q1= 88.91055374833586\n",
      "q2= -98.4969189906398\n",
      "---\n",
      "q1= -88.91055374833586\n",
      "q2= -98.4969189906398\n",
      "---\n",
      "q1= 29.831945542493155\n",
      "q2= 98.4969189906398\n",
      "---\n",
      "q1= -29.831945542493155\n",
      "q2= 98.4969189906398\n",
      "To see which of these are reaching the wirst position, we apply direct kinematics\n",
      "Direct kinematics for a two links arm:\n",
      "wx=l1*cos(q1)+l2*cos(q1+q2)\n",
      "wy=l1*sin(q1)+l2*sin(q1+q2)\n",
      "0 set of angles:\n",
      "(1.5517819026798465, -1.7190955394567944)\n",
      "(wx,wy)= (29.99936298437876, 16.999999994516365)\n",
      "Selected set\n",
      "1 set of angles:\n",
      "(-1.5517819026798465, -1.7190955394567944)\n",
      "(wx,wy)= (-29.331338553747514, -18.128275095207364)\n",
      "2 set of angles:\n",
      "(0.5206656719921515, 1.7190955394567944)\n",
      "(wx,wy)= (0.47951176127910955, 34.47799077314201)\n",
      "3 set of angles:\n",
      "(-0.5206656719921515, 1.7190955394567944)\n",
      "(wx,wy)= (29.999362984378756, 16.999999994516365)\n",
      "Selected set\n"
     ]
    }
   ],
   "source": [
    "print (\"We are going to discard the sets that are not reaching the wrist position\")\n",
    "print (\"wrist=\",(wx,wy))\n",
    "print (\"So we have the following angles sets:\")\n",
    "print (\"q1=\",q1*180/np.pi)\n",
    "print (\"q2=\",q2*180/np.pi)\n",
    "print (\"---\")\n",
    "print (\"q1=\",q1_bis*180/np.pi)\n",
    "print (\"q2=\",q2*180/np.pi)\n",
    "print (\"---\")\n",
    "print (\"q1=\",q1_1*180/np.pi)\n",
    "print (\"q2=\",q2_bis*180/np.pi)\n",
    "print (\"---\")\n",
    "print (\"q1=\",q1_1_bis*180/np.pi)\n",
    "print (\"q2=\",q2_bis*180/np.pi)\n",
    "print (\"To see which of these are reaching the wirst position, we apply direct kinematics\")\n",
    "print (\"Direct kinematics for a two links arm:\")\n",
    "print (\"wx=l1*cos(q1)+l2*cos(q1+q2)\")\n",
    "print (\"wy=l1*sin(q1)+l2*sin(q1+q2)\")\n",
    "\n",
    "#Build arrays for each set \n",
    "q1_set=(q1,q1_bis,q1_1,q1_1_bis)\n",
    "q2_set=(q2,q2,q2_bis,q2_bis)\n",
    "\n",
    "#for loop to test the direct kinematics\n",
    "k=0\n",
    "#We allocate two positions since only two valid configurations are possible (elbow up/down)\n",
    "q1=np.zeros(2)\n",
    "q2=np.zeros(2)\n",
    "for i in range (len(q1_set)):\n",
    "    print (\"%d set of angles:\"%i)\n",
    "    print ((q1_set[i],q2_set[i]))\n",
    "    wx_reached=l1*np.cos(q1_set[i])+l2*np.cos(q1_set[i]+q2_set[i])\n",
    "    wy_reached=l1*np.sin(q1_set[i])+l2*np.sin(q1_set[i]+q2_set[i])\n",
    "    print (\"(wx,wy)=\",(wx_reached,wy_reached))\n",
    "    if ((np.abs(wx_reached-wx)<0.001) and (np.abs(wy_reached-wy)<0.001)):\n",
    "        print (\"Selected set\")\n",
    "        q1[k]=q1_set[i]\n",
    "        q2[k]=q2_set[i]\n",
    "        k=k+1\n"
   ]
  },
  {
   "cell_type": "code",
   "execution_count": 20,
   "metadata": {},
   "outputs": [
    {
     "name": "stdout",
     "output_type": "stream",
     "text": [
      "phi= -89.99901355928155\n",
      "q3[0]= -80.4126483169776\n",
      "q3[1]= -158.6639870074282\n"
     ]
    }
   ],
   "source": [
    "#Calculate the angle phi     \n",
    "\n",
    "phi=np.arctan2((py-wy),(px-wx))\n",
    "\n",
    "q3=np.zeros(2)\n",
    "#To print the angle, uncomment the following line: \n",
    "print (\"phi=\",phi*180/np.pi)\n",
    "\n",
    "#Computation of q3\n",
    "q3[0]=phi-(q2[0]+q1[0])\n",
    "print (\"q3[0]=\",q3[0]*180/np.pi)\n",
    "\n",
    "q3[1]=phi-(q2[1]+q1[1])\n",
    "print (\"q3[1]=\",q3[1]*180/np.pi)"
   ]
  },
  {
   "cell_type": "code",
   "execution_count": 21,
   "metadata": {},
   "outputs": [
    {
     "data": {
      "image/png": "[encoded data removed]",
      "text/plain": [
       "<matplotlib.figure.Figure at 0x1803f8d0>"
      ]
     },
     "metadata": {},
     "output_type": "display_data"
    }
   ],
   "source": [
    "fig = plt.figure()\n",
    "ax = fig.add_subplot(111)\n",
    "#Using the first set of angles\n",
    "ax.plot([0,l1*np.cos(q1[0]),l1*np.cos(q1[0])+l2*np.cos(q1[0]+q2[0]),l1*np.cos(q1[0])+l2*np.cos(q1[0]+q2[0])+l3*np.cos(phi)],[0,l1*np.sin(q1[0]),l1*np.sin(q1[0])+l2*np.sin(q1[0]+q2[0]),l1*np.sin(q1[0])+l2*np.sin(q1[0]+q2[0])+l3*np.sin(phi)],'r-o')\n",
    "    \n",
    "#Using the second set of angles\n",
    "ax.plot([0,l1*np.cos(q1[1]),l1*np.cos(q1[1])+l2*np.cos(q1[1]+q2[1]),l1*np.cos(q1[1])+l2*np.cos(q1[1]+q2[1])+l3*np.cos(phi)],[0,l1*np.sin(q1[1]),l1*np.sin(q1[1])+l2*np.sin(q1[1]+q2[1]),l1*np.sin(q1[1])+l2*np.sin(q1[1]+q2[1])+l3*np.sin(phi)],'g--o')\n",
    "    \n",
    "ax.plot([0,wx,px],[0,wy,py],'go')\n",
    "ax.annotate('Wrist', xy=(wx, wy), xytext=(wx-3, wy-3),arrowprops=dict(facecolor='black', shrink=0.05))\n",
    "ax.annotate('Target', xy=(px, py), xytext=(px-3, py-3),arrowprops=dict(facecolor='black', shrink=0.05))\n",
    "plt.grid()"
   ]
  },
  {
   "cell_type": "code",
   "execution_count": 22,
   "metadata": {},
   "outputs": [
    {
     "name": "stdout",
     "output_type": "stream",
     "text": [
      "First angle set\n",
      "q1 88.91055374833586\n",
      "q2 -98.4969189906398\n",
      "q3 -80.4126483169776\n",
      "******************\n",
      "Second angle set\n",
      "q1 -29.831945542493155\n",
      "q2 98.4969189906398\n",
      "q3 -158.6639870074282\n",
      "******************\n",
      "We check the direct kinematics to see if the angles are correct (first set):\n",
      "px= 30.0\n",
      "py= -20.0\n",
      "We check the direct kinematics to see if the angles are correct (second set):\n",
      "px= 29.999999999999996\n",
      "py= -20.0\n"
     ]
    }
   ],
   "source": [
    "print (\"First angle set\")\n",
    "print (\"q1\",q1[0]*180/np.pi)\n",
    "print (\"q2\",q2[0]*180/np.pi)\n",
    "print (\"q3\",q3[0]*180/np.pi)\n",
    "print (\"******************\")\n",
    "print (\"Second angle set\")\n",
    "print (\"q1\",q1[1]*180/np.pi)\n",
    "print (\"q2\",q2[1]*180/np.pi)\n",
    "print (\"q3\",q3[1]*180/np.pi)\n",
    "print (\"******************\")\n",
    "#double check of the positions calculated according to the direct kinematics\n",
    "    \n",
    "print (\"We check the direct kinematics to see if the angles are correct (first set):\")\n",
    "px_direct_1=l1*np.cos(q1[0])+l2*np.cos(q1[0]+q2[0])+l3*np.cos(q1[0]+q2[0]+q3[0])\n",
    "py_direct_1=l1*np.sin(q1[0])+l2*np.sin(q1[0]+q2[0])+l3*np.sin(q1[0]+q2[0]+q3[0])\n",
    "print (\"px=\",px_direct_1)\n",
    "print (\"py=\",py_direct_1)\n",
    "print (\"We check the direct kinematics to see if the angles are correct (second set):\")\n",
    "px_direct_2=l1*np.cos(q1[1])+l2*np.cos(q1[1]+q2[1])+l3*np.cos(q1[1]+q2[1]+q3[1])\n",
    "py_direct_2=l1*np.sin(q1[1])+l2*np.sin(q1[1]+q2[1])+l3*np.sin(q1[1]+q2[1]+q3[1])\n",
    "print (\"px=\",px_direct_2)\n",
    "print (\"py=\",py_direct_2)"
   ]
  },
  {
   "cell_type": "code",
   "execution_count": 23,
   "metadata": {},
   "outputs": [
    {
     "name": "stdout",
     "output_type": "stream",
     "text": [
      "Values to introduce to the servos (first set)\n",
      "Q1 is the same of the one computed\n",
      "88.91055374833586\n",
      "Q2\n",
      "188.4969189906398\n",
      "Q3\n",
      "170.4126483169776\n",
      "*********************************\n",
      "Values to introduce to the servos (second set)\n",
      "Q1 is the same of the one computed\n",
      "-29.831945542493155\n",
      "Q2\n",
      "-8.496918990639799\n",
      "Q3\n",
      "248.6639870074282\n"
     ]
    }
   ],
   "source": [
    "print (\"Values to introduce to the servos (first set)\")\n",
    "print (\"Q1 is the same of the one computed\")\n",
    "print (q1[0]*180/np.pi)\n",
    "\n",
    "print (\"Q2\")\n",
    "if (q2[0]<0):\n",
    "    print (np.abs(q2[0]*180/np.pi)+90)\n",
    "else:\n",
    "    print (90-q2[0]*180/np.pi)\n",
    "\n",
    "print (\"Q3\")\n",
    "if (q3[0]<0):\n",
    "    print (np.abs(q3[0]*180/np.pi)+90)\n",
    "else:\n",
    "    print (90-q3[0]*180/np.pi)\n",
    "\n",
    "    \n",
    "print (\"*********************************\")\n",
    "print (\"Values to introduce to the servos (second set)\")\n",
    "print (\"Q1 is the same of the one computed\")\n",
    "print (q1[1]*180/np.pi)\n",
    "\n",
    "print (\"Q2\")\n",
    "if (q2[1]<0):\n",
    "    print (np.abs(q2[1]*180/np.pi)+90)\n",
    "else:\n",
    "    print (90-q2[1]*180/np.pi)\n",
    "\n",
    "print \"Q3\"\n",
    "if (q3[1]<0):\n",
    "    print (np.abs(q3[1]*180/np.pi)+90)\n",
    "else:\n",
    "    print (90-q3[1]*180/np.pi)\n"
   ]
  }
 ],
 "metadata": {
  "kernelspec": {
   "name": "python385jvsc74a57bd031f2aee4e71d21fbe5cf8b01ff0e069b9275f58929596ceb00d14d90e3e16cd6",
   "display_name": "Python 3.8.5 64-bit"
  },
  "language_info": {
   "codemirror_mode": {
    "name": "ipython",
    "version": 3
   },
   "file_extension": ".py",
   "mimetype": "text/x-python",
   "name": "python",
   "nbconvert_exporter": "python",
   "pygments_lexer": "ipython3",
   "version": "3.8.5"
  },
  "metadata": {
   "interpreter": {
    "hash": "31f2aee4e71d21fbe5cf8b01ff0e069b9275f58929596ceb00d14d90e3e16cd6"
   }
  }
 },
 "nbformat": 4,
 "nbformat_minor": 4
}